{
 "cells": [
  {
   "cell_type": "code",
   "execution_count": 2,
   "metadata": {},
   "outputs": [
    {
     "data": {
      "text/plain": [
       "True"
      ]
     },
     "execution_count": 2,
     "metadata": {},
     "output_type": "execute_result"
    }
   ],
   "source": [
    "from dotenv import load_dotenv\n",
    "load_dotenv()"
   ]
  },
  {
   "cell_type": "code",
   "execution_count": 3,
   "metadata": {},
   "outputs": [
    {
     "name": "stdout",
     "output_type": "stream",
     "text": [
      "----------------------------------------\n"
     ]
    }
   ],
   "source": [
    "import os\n",
    "from uuid import uuid4\n",
    "\n",
    "\n",
    "unique_id = uuid4().hex[0:8]\n",
    "\n",
    "os.environ[\"LANGCHAIN_TRACING_V2\"] = \"true\"\n",
    "print(\"-\"*40)\n",
    "os.environ[\"LANGCHAIN_PROJECT\"] = f\"Trying out LangGraph - {unique_id}\""
   ]
  },
  {
   "cell_type": "code",
   "execution_count": 4,
   "metadata": {},
   "outputs": [
    {
     "name": "stdout",
     "output_type": "stream",
     "text": [
      "File human-nutrition-text.pdf exists.\n"
     ]
    }
   ],
   "source": [
    "# Download PDF file\n",
    "import os\n",
    "import requests\n",
    "\n",
    "# Get PDF document\n",
    "pdf_path = \"human-nutrition-text.pdf\"\n",
    "\n",
    "# Download PDF if it doesn't already exist\n",
    "if not os.path.exists(pdf_path):\n",
    "  print(\"File doesn't exist, downloading...\")\n",
    "\n",
    "  # The URL of the PDF you want to download\n",
    "  url = \"https://pressbooks.oer.hawaii.edu/humannutrition2/open/download?type=pdf\"\n",
    "\n",
    "  # The local filename to save the downloaded file\n",
    "  filename = pdf_path\n",
    "\n",
    "  # Send a GET request to the URL\n",
    "  response = requests.get(url)\n",
    "\n",
    "  # Check if the request was successful\n",
    "  if response.status_code == 200:\n",
    "      # Open a file in binary write mode and save the content to it\n",
    "      with open(filename, \"wb\") as file:\n",
    "          file.write(response.content)\n",
    "      print(f\"The file has been downloaded and saved as {filename}\")\n",
    "  else:\n",
    "      print(f\"Failed to download the file. Status code: {response.status_code}\")\n",
    "else:\n",
    "  print(f\"File {pdf_path} exists.\")"
   ]
  },
  {
   "cell_type": "code",
   "execution_count": 5,
   "metadata": {},
   "outputs": [
    {
     "name": "stderr",
     "output_type": "stream",
     "text": [
      "C:\\Users\\Odiaka\\AppData\\Local\\Temp\\ipykernel_31548\\1810303568.py:28: LangChainDeprecationWarning: The class `HuggingFaceEmbeddings` was deprecated in LangChain 0.2.2 and will be removed in 1.0. An updated version of the class exists in the langchain-huggingface package and should be used instead. To use it run `pip install -U langchain-huggingface` and import as `from langchain_huggingface import HuggingFaceEmbeddings`.\n",
      "  hf = SentenceTransformerEmbeddings(model_name=\"sentence-transformers/all-mpnet-base-v2\")\n",
      "c:\\Users\\Odiaka\\miniconda3\\envs\\rag\\Lib\\site-packages\\sentence_transformers\\cross_encoder\\CrossEncoder.py:11: TqdmWarning: IProgress not found. Please update jupyter and ipywidgets. See https://ipywidgets.readthedocs.io/en/stable/user_install.html\n",
      "  from tqdm.autonotebook import tqdm, trange\n",
      "c:\\Users\\Odiaka\\miniconda3\\envs\\rag\\Lib\\site-packages\\huggingface_hub\\file_download.py:1132: FutureWarning: `resume_download` is deprecated and will be removed in version 1.0.0. Downloads always resume when possible. If you want to force a new download, use `force_download=True`.\n",
      "  warnings.warn(\n"
     ]
    }
   ],
   "source": [
    "import os\n",
    "from langchain_community.embeddings.sentence_transformer import SentenceTransformerEmbeddings\n",
    "from langchain.text_splitter import RecursiveCharacterTextSplitter\n",
    "from langchain_community.vectorstores import FAISS\n",
    "from langchain_community.document_loaders import PyMuPDFLoader\n",
    "\n",
    "# Check if there is a FAISS index locally\n",
    "index_path = \"faiss_index\"\n",
    "if os.path.exists(index_path):\n",
    "    # Load the existing FAISS index\n",
    "    hf = SentenceTransformerEmbeddings(model_name=\"sentence-transformers/all-mpnet-base-v2\")\n",
    "    vectorstore = FAISS.load_local(index_path, hf, allow_dangerous_deserialization=True)\n",
    "    retriever = vectorstore.as_retriever(\n",
    "        search_type=\"similarity_score_threshold\",\n",
    "        search_kwargs={'k': 2, 'score_threshold': 0.5}\n",
    "    )    # (search_type=\"mmr\", search_kwargs={\"fetch_k\": 5})  # I am using mmr for diversity in retrieved docs to reduce \n",
    "else:                                                                                                   # context redundancy\n",
    "    # Load the document and create embeddings\n",
    "    loader = PyMuPDFLoader(input(\"\"))\n",
    "    text_data = loader.load()\n",
    "    text_splitter = RecursiveCharacterTextSplitter(\n",
    "        chunk_size=500,\n",
    "        chunk_overlap=20,\n",
    "        length_function=len,\n",
    "        is_separator_regex=False\n",
    "    )\n",
    "    chunks = text_splitter.split_documents(text_data)\n",
    "    hf = SentenceTransformerEmbeddings(model_name=\"sentence-transformers/all-mpnet-base-v2\")\n",
    "    vectorstore = FAISS.from_documents(chunks, hf)\n",
    "    retriever = vectorstore.as_retriever(\n",
    "        search_type=\"similarity_score_threshold\",\n",
    "        search_kwargs={'k': 2, 'score_threshold': 0.5}\n",
    "    )\n",
    "    # Save the FAISS index locally\n",
    "    vectorstore.save_local(index_path)"
   ]
  },
  {
   "cell_type": "code",
   "execution_count": 6,
   "metadata": {},
   "outputs": [],
   "source": [
    "### Router\n",
    "\n",
    "from langchain.prompts import PromptTemplate\n",
    "from langchain_community.chat_models import ChatOllama\n",
    "from langchain_core.output_parsers import JsonOutputParser\n",
    "\n",
    "\n",
    "prompt = PromptTemplate(\n",
    "    template=\"\"\"You are an expert at routing user questions to the appropriate data source. Based on the provided question, please classify it into one of the following categories:\n",
    "\n",
    "1. vectorstore: Questions related to human nutrition (including food quality, units of measure, healthy diet, scientific research in nutrition, the human body's systems, water and electrolytes, carbohydrates, lipids, proteins, alcohol, energy, vitamins, minerals, lifespan nutrition, performance nutrition, food safety, nutritional issues, and careers in nutrition).\n",
    "2. web_search: Questions that require up-to-date information and could be found on the internet.\n",
    "3. off_topic: Questions that are personal enquiries, inappropriate comments, or irrelevant/flirty innuendos.\n",
    "\n",
    "Examples:\n",
    "    What is the capital of France? -> \"DATASOURCE\":\"web_search\"\n",
    "    What are macronutrients? -> \"DATASOURCE\":\"vectorstore\"\n",
    "    What are the latest nutrition trends? -> \"DATASOURCE\":\"web_search\"\n",
    "    How does the body ensure adequate energy during prolonged physical activity? -> \"DATASOURCE\":\"vectorstore\"\n",
    "    Who owns the restaurant? -> \"DATASOURCE\":\"offtopic\"\n",
    "    I like you, do you like me? -> \"DATASOURCE\":\"offtopic\"\n",
    "    What are macronutrients? -> \"DATASOURCE\":\"vectorstore\"\n",
    "    Which club did Messi last score against? -> \"DATASOURCE\":\"web_search\"\n",
    "    When was McGregor's last fight? -> \"DATASOURCE\":\"web_search\"\n",
    "    Is Brazil competiting at the 2024 Olympics? -> \"DATASOURCE\":\"web_search\"\n",
    "    Will you marry me? -> \"DATASOURCE\":\"offtopic\"\n",
    "If the question falls into one of these categories, respond with a JSON object containing a single key 'DATASOURCE'. Only reply with each classification such as 'vectorstore', 'classified', or 'web_search'. Please no preamble or explanation.\n",
    "\n",
    "Question: {question}\n",
    "\n",
    "JSON Response:\n",
    " \"\"\",\n",
    "    input_variables=[\"question\"],\n",
    ")\n",
    "# LLM\n",
    "llm = ChatOllama(model=\"gemma:2b\", format=\"json\", temperature=0)\n",
    "question_router = prompt | llm | JsonOutputParser()"
   ]
  },
  {
   "cell_type": "markdown",
   "metadata": {},
   "source": [
    "To try it out:"
   ]
  },
  {
   "cell_type": "code",
   "execution_count": 7,
   "metadata": {},
   "outputs": [
    {
     "name": "stdout",
     "output_type": "stream",
     "text": [
      "QUESTION and GRADE: What day of the week is today? - web_search\n"
     ]
    }
   ],
   "source": [
    "question = \"What day of the week is today?\"\n",
    "response = question_router.invoke({\"question\": question})\n",
    "\n",
    "# Extract the value of 'DATASOURCE'\n",
    "value = response.get(\"DATASOURCE\", \"No key found\")\n",
    "print(f\"QUESTION and GRADE: {question} - {value}\")"
   ]
  },
  {
   "cell_type": "markdown",
   "metadata": {},
   "source": [
    "### Retrieval Grader \n"
   ]
  },
  {
   "cell_type": "code",
   "execution_count": 8,
   "metadata": {},
   "outputs": [],
   "source": [
    "### Retrieval Grader \n",
    "\n",
    "from langchain.prompts import PromptTemplate\n",
    "from langchain_groq import ChatGroq\n",
    "from langchain_core.output_parsers import JsonOutputParser\n",
    "\n",
    "\n",
    "\n",
    "grader_prompt = PromptTemplate(\n",
    "    template=\"\"\"You are a grader assessing the relevance of a retrieved document to a user question.\n",
    "\n",
    "Here is the retrieved document:\n",
    "\n",
    "{document}\n",
    "\n",
    "Here is the user question:\n",
    "\n",
    "{question}\n",
    "\n",
    "To assess the relevance of the document to the question, please use semantic similarity to compare the meaning of the document and the question. If the document contains information that is semantically similar to the user question, grade it as relevant. Do not be stringent with the keywords. The goal is to filter out erroneous retrievals.\n",
    "\n",
    "Give a binary score 'yes' to indicate that the document is relevant to the question, or 'no' to indicate that the document is NOT relelvant to the question .\n",
    "\n",
    "Provide the binary score as a JSON object with a single key 'score' and no preamble or explanation.\n",
    "\n",
    "JSON Response:\"\"\",\n",
    "    input_variables=[\"question\", \"document\"],\n",
    ")\n",
    "\n",
    "# LLM\n",
    "#llm = ChatGroq(temperature=0.1, model_name=\"llama-3.1-70b-versatile\")\n",
    "llm = ChatGroq(temperature=0.1, model_name=\"gemma2-9b-it\")\n",
    "retrieval_grader = grader_prompt | llm | JsonOutputParser()\n"
   ]
  },
  {
   "cell_type": "code",
   "execution_count": 9,
   "metadata": {},
   "outputs": [
    {
     "name": "stderr",
     "output_type": "stream",
     "text": [
      "C:\\Users\\Odiaka\\AppData\\Local\\Temp\\ipykernel_31548\\1791684549.py:2: LangChainDeprecationWarning: The method `BaseRetriever.get_relevant_documents` was deprecated in langchain-core 0.1.46 and will be removed in 1.0. Use invoke instead.\n",
      "  docs = retriever.get_relevant_documents(question)\n"
     ]
    },
    {
     "name": "stdout",
     "output_type": "stream",
     "text": [
      "Document 1: yes\n",
      "Document 2: yes\n"
     ]
    }
   ],
   "source": [
    "question = \"How do proteins contribute to the structure and texture of foods?\"\n",
    "docs = retriever.get_relevant_documents(question)\n",
    "scores = []\n",
    "\n",
    "for i, doc in enumerate(docs):\n",
    "    response = retrieval_grader.invoke({\"question\": question, \"document\": doc.page_content})\n",
    "    scores.append(response)\n",
    "    print(f\"Document {i+1}: {response['score']}\")\n",
    "\n",
    "\n"
   ]
  },
  {
   "cell_type": "code",
   "execution_count": 10,
   "metadata": {},
   "outputs": [
    {
     "data": {
      "text/plain": [
       "[{'score': 'yes'}, {'score': 'yes'}]"
      ]
     },
     "execution_count": 10,
     "metadata": {},
     "output_type": "execute_result"
    }
   ],
   "source": [
    "scores"
   ]
  },
  {
   "cell_type": "markdown",
   "metadata": {},
   "source": [
    "If you've adjusted the retriever's parameters and are working with more than a couple documents, it's advisable to uncomment and run the code blocks below. This will help prevent overwhelming your generator LLM with too many context documents, which could exceed the LLM's token length limitations."
   ]
  },
  {
   "cell_type": "markdown",
   "metadata": {},
   "source": [
    "**Compressor**"
   ]
  },
  {
   "cell_type": "code",
   "execution_count": 20,
   "metadata": {},
   "outputs": [],
   "source": [
    "#from langchain.retrievers import ContextualCompressionRetriever\n",
    "#from langchain.retrievers.document_compressors import CrossEncoderReranker\n",
    "#from langchain_community.cross_encoders import HuggingFaceCrossEncoder\n",
    "\n",
    "#model = HuggingFaceCrossEncoder(model_name=\"sentence-transformers/all-MiniLM-L6-v2\")  #BAAI/bge-large-en-v1.5 \n",
    "#compressor = CrossEncoderReranker(model=model, top_n=2)\n",
    "#compression_retriever = ContextualCompressionRetriever(\n",
    "    #base_compressor=compressor, base_retriever=retriever\n",
    "#)"
   ]
  },
  {
   "cell_type": "code",
   "execution_count": 21,
   "metadata": {},
   "outputs": [],
   "source": [
    "#question = \"How do proteins contribute to the structure and texture of foods?\"\n",
    "#docs = compression_retriever.get_relevant_documents(question)\n",
    "#docs\n",
    "\n"
   ]
  },
  {
   "cell_type": "code",
   "execution_count": 22,
   "metadata": {},
   "outputs": [],
   "source": [
    "#for i, doc in enumerate(docs):\n",
    "    #response = retrieval_grader.invoke({\"question\": question, \"document\": doc.page_content})\n",
    "    #scores.append(response)\n",
    "    #print(f\"Document {i+1}: {response['score']}\")"
   ]
  },
  {
   "cell_type": "code",
   "execution_count": 11,
   "metadata": {},
   "outputs": [],
   "source": [
    "### Question Re-writer\n",
    "from langchain.prompts import PromptTemplate\n",
    "from langchain_groq import ChatGroq\n",
    "from langchain_core.output_parsers import StrOutputParser\n",
    "\n",
    "\n",
    "# Prompt \n",
    "re_write_prompt = PromptTemplate(\n",
    "    template=\"\"\"You a question re-writer that converts an input question to a better version that is optimized \n",
    "     for vectorstore semantic retrieval. Look at the initial and formulate an improved question. \n",
    "     Here is the initial question:  {question}. \n",
    "     Revised question:  \n",
    "     Please no preamble or extra sentences just the revised question will suffice.\"\"\",\n",
    "    input_variables=[\"question\"],\n",
    ")\n",
    "\n",
    "# LLM\n",
    "llm = ChatGroq(temperature=0.1, model_name=\"gemma2-9b-it\")\n",
    "question_rewriter = re_write_prompt | llm | StrOutputParser()"
   ]
  },
  {
   "cell_type": "code",
   "execution_count": 12,
   "metadata": {},
   "outputs": [
    {
     "name": "stdout",
     "output_type": "stream",
     "text": [
      "ORIGINAL QUESTION: What are macronutrients?\n",
      "IMPROVED QUESTION: Define macronutrients.  \n",
      "\n"
     ]
    }
   ],
   "source": [
    "question = \"What are macronutrients?\"\n",
    "response = question_rewriter.invoke({\"question\": question})\n",
    "\n",
    "print(f\"ORIGINAL QUESTION: {question}\")\n",
    "print(f\"IMPROVED QUESTION: {response}\")"
   ]
  },
  {
   "cell_type": "code",
   "execution_count": 25,
   "metadata": {},
   "outputs": [],
   "source": [
    "#question = response\n",
    "#docs = compression_retriever.invoke(question)\n",
    "#for i, doc in enumerate(docs):\n",
    "    #response = retrieval_grader.invoke({\"question\": question, \"document\": doc.page_content})\n",
    "    #scores.append(response)\n",
    "    #print(f\"Document {i+1}: {response['score']}\")"
   ]
  },
  {
   "cell_type": "code",
   "execution_count": 13,
   "metadata": {},
   "outputs": [],
   "source": [
    "### Generate\n",
    "\n",
    "from langchain.prompts import PromptTemplate\n",
    "from langchain_groq import ChatGroq\n",
    "from langchain_core.output_parsers import StrOutputParser\n",
    "\n",
    "\n",
    "# Post-processing\n",
    "def format_docs(docs):\n",
    "    return \"\\n\\n\".join(doc.page_content for doc in docs)\n",
    "\n",
    "# Prompt\n",
    "prompt = PromptTemplate(\n",
    "    template=\"\"\"Answer the following question based only on the provided context. \n",
    "Question: {question}\n",
    "Context: {documents}\"\"\",\n",
    "    input_variables=[\"question\", \"documents\"],\n",
    ")\n",
    "\n",
    "\n",
    "# Chain\n",
    "rag_chain = prompt | llm | StrOutputParser()\n",
    "# LLM\n",
    "#llm = ChatGroq(temperature=0.1, model_name=\"llama-3.1-70b-versatile\")\n",
    "llm = ChatGroq(temperature=0.1, model_name=\"gemma2-9b-it\")"
   ]
  },
  {
   "cell_type": "code",
   "execution_count": 14,
   "metadata": {},
   "outputs": [
    {
     "name": "stdout",
     "output_type": "stream",
     "text": [
      "Macronutrients are nutrients that are needed in large amounts.  \n",
      "\n"
     ]
    }
   ],
   "source": [
    "question = question\n",
    "docs = retriever.invoke(question)\n",
    "docs = format_docs(docs)\n",
    "response = rag_chain.invoke({\"question\": question, \"documents\": docs})\n",
    "print(response)"
   ]
  },
  {
   "cell_type": "code",
   "execution_count": 15,
   "metadata": {},
   "outputs": [
    {
     "data": {
      "text/plain": [
       "'Macronutrients \\nNutrients \\nthat \\nare \\nneeded \\nin \\nlarge \\namounts \\nare \\ncalled \\nmacronutrients. There are three classes of macronutrients: \\ncarbohydrates, lipids, and proteins. These can be metabolically \\nprocessed into cellular energy. The energy from macronutrients \\ncomes from their chemical bonds. This chemical energy is \\nconverted into cellular energy that is then utilized to perform work, \\nallowing our bodies to conduct their basic functions. A unit of'"
      ]
     },
     "execution_count": 15,
     "metadata": {},
     "output_type": "execute_result"
    }
   ],
   "source": [
    "docs"
   ]
  },
  {
   "cell_type": "code",
   "execution_count": 16,
   "metadata": {},
   "outputs": [],
   "source": [
    "import getpass\n",
    "import os\n",
    "\n",
    "if \"TAVILY_API_KEY\" not in os.environ:\n",
    "  os.environ[\"TAVILY_API_KEY\"] = getpass.getpass(\"Provide your Tavily Search Api Key here: \")\n",
    "  print(\"TAVILY_API_KEY successfully sent to the environment\")"
   ]
  },
  {
   "cell_type": "code",
   "execution_count": 17,
   "metadata": {},
   "outputs": [],
   "source": [
    "from langchain_community.tools.tavily_search import TavilySearchResults\n",
    "web_search_tool = TavilySearchResults()"
   ]
  },
  {
   "cell_type": "code",
   "execution_count": 18,
   "metadata": {},
   "outputs": [],
   "source": [
    "query = \"Who is the bantam weight UFC champion of the world?\""
   ]
  },
  {
   "cell_type": "code",
   "execution_count": 19,
   "metadata": {},
   "outputs": [
    {
     "data": {
      "text/plain": [
       "[{'url': 'https://www.itnwwe.com/mma/ufc-bantamweight-champions/',\n",
       "  'content': 'UFC Bantamweight Championship is the title for the Flyweight division which ranges from 125 to 135 lbs or 56.7 to 61.2 kgs. Title History. The Bantamweight title was introduced in UFC after its merger with World Extreme Cagefighting. Dominic Cruz, the reigning WEC Bantamweight Champion, was crowned the first UFC Bantamweight Champion as he ...'},\n",
       " {'url': 'https://www.ufc.com/news/where-we-stand-bantamweight-november-2021-sterling-yan',\n",
       "  'content': 'Take A Look At Where The UFC Bantamweight Division Stands After Petr Yan Defeated Cory Sandhagen To Become The Interim UFC Bantamweight Champion At UFC 267. ... combat sports from around the world ...'},\n",
       " {'url': 'https://www.ufc.com/rankings',\n",
       "  'content': \"Current UFC Rankings for every weight class and pound-for-pound greatest fighter. ... Women's Bantamweight Raquel Pennington Champion. 1 : Julianna Peña: 2 : Ketlen Vieira: 3\"},\n",
       " {'url': 'https://www.espn.com/mma/story/_/id/38490132/ufc-weight-class-power-rankings-sean-omalley-elevates-men-bantamweight-top-spot',\n",
       "  'content': \"Sean O'Malley beat Aljamain Sterling to claim the UFC men's bantamweight title at UFC 292 in August. This is the UFC's marquee weight class, led by one of the sport's biggest stars in newly ...\"},\n",
       " {'url': 'https://www.ufc.com/news/ufc-bantamweight-title-lineage-cruz-dillashaw-garbrandt-cejudo-yan-sterling',\n",
       "  'content': 'Dominick Cruz (2010-2014) WEC bantamweight champion who defeated Scott Jorgensen at WEC 53 on December 16, 2010 to win first UFC Bantamweight Championship.Defended title successfully against ...'}]"
      ]
     },
     "execution_count": 19,
     "metadata": {},
     "output_type": "execute_result"
    }
   ],
   "source": [
    "web_search_tool.invoke(query)"
   ]
  },
  {
   "cell_type": "markdown",
   "metadata": {},
   "source": [
    "**NB**: \n",
    "\n",
    "Occasionally, the web_search_tool may encounter ConnectionError issues. If this happens, simply rerun the cell, and it should work fine."
   ]
  },
  {
   "cell_type": "code",
   "execution_count": 17,
   "metadata": {},
   "outputs": [],
   "source": [
    "from typing_extensions import TypedDict\n",
    "\n",
    "\n",
    "class AgentState(TypedDict):\n",
    "    question: str\n",
    "    scores: list[str]\n",
    "    llm_output: str\n",
    "    documents: list[str]\n",
    "    ON_TOPIC: bool"
   ]
  },
  {
   "cell_type": "code",
   "execution_count": 22,
   "metadata": {},
   "outputs": [],
   "source": [
    "from langgraph.graph import MessagesState\n",
    "\n",
    "class ExtendedMessagesState(MessagesState): \n",
    "    ON_TOPIC: bool\n",
    "    question: str\n",
    "    documents: list[str]\n",
    "    scores: list[str]"
   ]
  },
  {
   "cell_type": "code",
   "execution_count": 23,
   "metadata": {},
   "outputs": [],
   "source": [
    "### Edges ###\n",
    "\n",
    "#from langchain.schema import Document\n",
    "\n",
    "def route_question(state: ExtendedMessagesState):\n",
    "    \"\"\"\n",
    "    Route question to web search or RAG.\n",
    "\n",
    "    Args:\n",
    "        state (dict): The current graph state\n",
    "\n",
    "    Returns:\n",
    "        str: Next node to call\n",
    "    \"\"\"\n",
    "\n",
    "    question = state[\"question\"]\n",
    "    print(f\"Query: {question}\")\n",
    "    print(\"Knowledge base OR the internet?...\")\n",
    "    route = question_router.invoke({\"question\": question})  \n",
    "    value = route.get(\"DATASOURCE\", \"No key found\")\n",
    "    \n",
    "    if value.lower() == 'web_search':\n",
    "        print(\"I need to search the internet...\")\n",
    "        return \"web_search\"\n",
    "    elif value.lower() == 'vectorstore':\n",
    "         print(\"I need to search the knowledge base...\") \n",
    "         return \"vectorstore\"\n",
    "    message = \"OFF_TOPIC\"\n",
    "    return message\n",
    "    \n",
    "\n",
    "def decide_to_generate(state: ExtendedMessagesState):\n",
    "    \"\"\"\n",
    "    Determines whether to generate an answer, or re-generate a question.\n",
    "\n",
    "    Args:\n",
    "        state (dict): The current graph state\n",
    "\n",
    "    Returns:\n",
    "        str: Binary decision for next node to call\n",
    "    \"\"\"\n",
    "\n",
    "    print(\"Are these documents good?...\")\n",
    "\n",
    "    scores = state[\"scores\"]\n",
    "\n",
    "    if any(score.lower() == \"no\" for score in scores):\n",
    "        #filtered_grades = [score for score in scores if score.lower() == \"no\"]\n",
    "        return \"rewrite_query\"\n",
    "    else:\n",
    "        return \"generate\""
   ]
  },
  {
   "cell_type": "code",
   "execution_count": 24,
   "metadata": {},
   "outputs": [],
   "source": [
    "### Nodes ###\n",
    "def retrieve_docs(state: ExtendedMessagesState):\n",
    "    print(\"Retrieving documents...\")\n",
    "    \n",
    "    question = state[\"question\"]\n",
    "    documents = retriever.get_relevant_documents(query=question)  #compression_\n",
    "    \n",
    "    for n, doc in enumerate(documents, start=1):\n",
    "        print(f\"RETRIEVED DOCUMENT {n}\")\n",
    "    state[\"documents\"] = [doc.page_content for doc in documents]\n",
    "\n",
    "    return state\n",
    "\n",
    "def grade_documents(state: ExtendedMessagesState):\n",
    "    \"\"\"\n",
    "    Determines whether the retrieved documents are relevant to the question.\n",
    "\n",
    "    Args:\n",
    "        state (AgentState): The current graph state\n",
    "\n",
    "    Returns:\n",
    "        AgentState: Updates documents key with only filtered relevant documents\n",
    "    \"\"\"\n",
    "    print(\"Grading retrieved documents...\")\n",
    "    question = state[\"question\"]\n",
    "    documents = state[\"documents\"]\n",
    "    \n",
    "    # Score each doc\n",
    "    filtered_docs = []\n",
    "    scores = []\n",
    "    for i, doc in enumerate(documents):\n",
    "        response = retrieval_grader.invoke({\"question\": question, \"document\": doc})\n",
    "        score = response.get(\"score\", \"No key found\")\n",
    "        scores.append(score)\n",
    "        \n",
    "        print(f\"Is Document {i+1} RELEVANT?: {score}\")\n",
    "        if score == \"yes\":\n",
    "            filtered_docs.append(doc)\n",
    "    state[\"documents\"] = filtered_docs\n",
    "    state[\"scores\"] = scores\n",
    "    return state\n",
    "\n",
    "#def format_docs(docs):\n",
    "    #return \"\\n\\n\".join(doc for doc in docs)\n",
    "def format_docs(docs):\n",
    "    # Ensure that the documents are strings before joining\n",
    "    return \"\\n\\n\".join(doc if isinstance(doc, str) else doc.page_content for doc in docs)\n",
    "    \n",
    "\n",
    "\n",
    "def generate(state: ExtendedMessagesState):\n",
    "    \"\"\"\n",
    "    Generate answer\n",
    "\n",
    "    Args:\n",
    "        state (AgentState): The current graph state\n",
    "\n",
    "    Returns:\n",
    "        AgentState: New key added to state, llm_output, that contains LLM generation\n",
    "    \"\"\"\n",
    "    print(\"Generating response...\")\n",
    "    state.get(\"\", \"messages\")\n",
    "    question = state[\"question\"]\n",
    "    documents = state[\"documents\"]\n",
    "    \n",
    "    # RAG generation\n",
    "    messages = rag_chain.invoke({\"documents\": format_docs(documents), \"question\": question})\n",
    "    \n",
    "    #state[\"llm_output\"] = generation\n",
    "    return state\n",
    "\n",
    "def transform_query(state: ExtendedMessagesState):\n",
    "    \"\"\"\n",
    "    Transform the query to produce a better question.\n",
    "\n",
    "    Args:\n",
    "        state (AgentState): The current graph state\n",
    "\n",
    "    Returns:\n",
    "        AgentState: Updates question key with a re-phrased question\n",
    "    \"\"\"\n",
    "    print(\"Re-writing user query...\")\n",
    "    question = state[\"question\"]\n",
    "\n",
    "    better_question = question_rewriter.invoke({\"question\": question})\n",
    "    state[\"question\"] = better_question\n",
    "    return state\n",
    "\n",
    "def off_topic_response(state: ExtendedMessagesState):\n",
    "    \"\"\"\n",
    "    Generate answer using the substitute LLM\n",
    "    Args:\n",
    "        state (dict): The current graph state\n",
    "\n",
    "    Returns:\n",
    "        state (dict): New key added to state, generation2, that contains substitute llm responses\n",
    "    \"\"\"\n",
    "   \n",
    "    messages = \"I'm sorry, but 🅱🅻🅰🆀 will like us to only chat about your documents.\"\n",
    "    print(message)\n",
    "    state[\"llm_output\"] = message\n",
    "    return state\n",
    "\n",
    "def web_search(state: ExtendedMessagesState):\n",
    "    \"\"\"\n",
    "    Web search based on the re-phrased question.\n",
    "\n",
    "    Args:\n",
    "        state (dict): The current graph state\n",
    "\n",
    "    Returns:\n",
    "        state (dict): Updates documents key with appended web results as strings\n",
    "    \"\"\"\n",
    "    print(\"Searching the internet...\")\n",
    "    question = state[\"question\"]\n",
    "\n",
    "    # Perform web search and retrieve results\n",
    "    docs = web_search_tool.invoke(question)\n",
    "    \n",
    "\n",
    "    # Process the search results by extracting the content\n",
    "    web_results = \"\\n\".join(d.get(\"content\", \"\") if isinstance(d, dict) else d for d in docs)\n",
    "    \n",
    "    # Convert the concatenated web results into a string\n",
    "    web_results_str = web_results\n",
    "\n",
    "    # Append the web search results to the existing documents in the state\n",
    "    if \"documents\" in state:\n",
    "        state[\"documents\"].append(web_results_str)\n",
    "        state[\"question\"] = question\n",
    "    else:\n",
    "        state[\"documents\"] = [web_results_str]\n",
    "        state[\"question\"] = question\n",
    "   \n",
    "    return state"
   ]
  },
  {
   "cell_type": "code",
   "execution_count": 26,
   "metadata": {},
   "outputs": [],
   "source": [
    "from langgraph.graph import StateGraph, END\n",
    "from langgraph.checkpoint.memory import MemorySaver\n",
    "\n",
    "\n",
    "workflow = StateGraph(ExtendedMessagesState)\n",
    "\n",
    "#workflow.add_node(\"route_question\", route_question)\n",
    "workflow.add_node(\"off_topic_response\", off_topic_response)\n",
    "workflow.add_node(\"retrieve_docs\", retrieve_docs)\n",
    "workflow.add_node(\"transform_query\", transform_query)\n",
    "workflow.add_node(\"generate\", generate)\n",
    "workflow.add_node(\"web_search\", web_search)\n",
    "workflow.add_node(\"grade_documents\", grade_documents)\n",
    "\n",
    "# Set the entry point\n",
    "\n",
    "\n",
    "\n",
    "#workflow.add_edge(START, \"route_question\")\n",
    "\n",
    "workflow.set_conditional_entry_point(\n",
    "    route_question,\n",
    "    {\n",
    "        \"web_search\": \"web_search\",\n",
    "        \"vectorstore\": \"retrieve_docs\",\n",
    "        \"OFF_TOPIC\": \"off_topic_response\"\n",
    "    },\n",
    ")\n",
    "\n",
    "workflow.add_edge(\"web_search\", \"generate\")\n",
    "workflow.add_edge(\"retrieve_docs\", \"grade_documents\")\n",
    "workflow.add_edge(\"off_topic_response\", END)\n",
    "\n",
    "\n",
    "workflow.add_conditional_edges(\n",
    "    \"grade_documents\",\n",
    "    decide_to_generate,\n",
    "    {\n",
    "        \"generate\": \"generate\",\n",
    "        \"rewrite_query\": \"transform_query\",\n",
    "    },\n",
    ")\n",
    "workflow.add_edge(\"transform_query\", \"retrieve_docs\")\n",
    "workflow.add_edge(\"generate\", END)\n",
    "\n",
    "memory = MemorySaver()\n",
    "\n",
    "\n",
    "app = workflow.compile(checkpointer=memory)  #debug=True"
   ]
  },
  {
   "cell_type": "code",
   "execution_count": 113,
   "metadata": {},
   "outputs": [],
   "source": [
    "#from IPython.display import Image, display\n",
    "\n",
    "##try:\n",
    "   # display(Image(app.get_graph(xray=True).draw_mermaid_png()))\n",
    "#except:\n",
    "##    pass"
   ]
  },
  {
   "cell_type": "code",
   "execution_count": 28,
   "metadata": {},
   "outputs": [
    {
     "data": {
      "image/png": "[encoded data removed]",
      "text/plain": [
       "<IPython.core.display.Image object>"
      ]
     },
     "metadata": {},
     "output_type": "display_data"
    }
   ],
   "source": [
    "from IPython.display import Image, display\n",
    "\n",
    "app.get_graph().draw_mermaid_png(output_file_path=\"graph.png\")\n",
    "\n",
    "# Display the image\n",
    "display(Image(filename=\"graph.png\"))"
   ]
  },
  {
   "cell_type": "code",
   "execution_count": 30,
   "metadata": {},
   "outputs": [
    {
     "name": "stdout",
     "output_type": "stream",
     "text": [
      "Query: what are macronutrients?\n",
      "Knowledge base OR the internet?...\n",
      "I need to search the knowledge base...\n",
      "Retrieving documents...\n",
      "RETRIEVED DOCUMENT 1\n",
      "Grading retrieved documents...\n",
      "Is Document 1 RELEVANT?: yes\n",
      "Are these documents good?...\n",
      "Generating response...\n"
     ]
    },
    {
     "data": {
      "text/plain": [
       "[]"
      ]
     },
     "execution_count": 30,
     "metadata": {},
     "output_type": "execute_result"
    }
   ],
   "source": [
    "result = app.invoke({\"question\": \"what are macronutrients?\"}, config = {\"configurable\": {\"thread_id\": \"1\"}})   #, config = {\"configurable\": {\"thread_id\": \"2\"}\n",
    "result[\"messages\"]"
   ]
  },
  {
   "cell_type": "code",
   "execution_count": 31,
   "metadata": {},
   "outputs": [
    {
     "data": {
      "text/plain": [
       "{'messages': [],\n",
       " 'question': 'what are macronutrients?',\n",
       " 'documents': ['Macronutrients \\nNutrients \\nthat \\nare \\nneeded \\nin \\nlarge \\namounts \\nare \\ncalled \\nmacronutrients. There are three classes of macronutrients: \\ncarbohydrates, lipids, and proteins. These can be metabolically \\nprocessed into cellular energy. The energy from macronutrients \\ncomes from their chemical bonds. This chemical energy is \\nconverted into cellular energy that is then utilized to perform work, \\nallowing our bodies to conduct their basic functions. A unit of'],\n",
       " 'scores': ['yes']}"
      ]
     },
     "execution_count": 31,
     "metadata": {},
     "output_type": "execute_result"
    },
    {
     "ename": "",
     "evalue": "",
     "output_type": "error",
     "traceback": [
      "\u001b[1;31mThe Kernel crashed while executing code in the current cell or a previous cell. \n",
      "\u001b[1;31mPlease review the code in the cell(s) to identify a possible cause of the failure. \n",
      "\u001b[1;31mClick <a href='https://aka.ms/vscodeJupyterKernelCrash'>here</a> for more info. \n",
      "\u001b[1;31mView Jupyter <a href='command:jupyter.viewOutput'>log</a> for further details."
     ]
    }
   ],
   "source": [
    "result"
   ]
  },
  {
   "cell_type": "code",
   "execution_count": 22,
   "metadata": {},
   "outputs": [
    {
     "name": "stdout",
     "output_type": "stream",
     "text": [
      "Query: How do proteins contribute to the structure and texture of foods?\n",
      "Knowledge base OR the internet?...\n",
      "I need to search the knowledge base...\n",
      "Retrieving documents...\n",
      "RETRIEVED DOCUMENT 1\n",
      "RETRIEVED DOCUMENT 2\n",
      "\"Node 'retrieve_docs':\"\n",
      "'\\n---\\n'\n",
      "Grading retrieved documents...\n",
      "Is Document 1 RELEVANT?: yes\n",
      "Is Document 2 RELEVANT?: yes\n",
      "Are these documents good?...\n",
      "\"Node 'grade_documents':\"\n",
      "'\\n---\\n'\n",
      "Generating response...\n",
      "\"Node 'generate':\"\n",
      "'\\n---\\n'\n",
      "('Proteins provide food with structure and texture. They can foam when '\n",
      " 'agitated, creating airy textures like in angel food cake.  They can also '\n",
      " 'coagulate, increasing thickness as seen in yogurt. \\n')\n"
     ]
    }
   ],
   "source": [
    "from pprint import pprint\n",
    "\n",
    "# Run \n",
    "inputs = {\"question\": \"How do proteins contribute to the structure and texture of foods?\"}\n",
    "for output in app.stream(inputs):\n",
    "    for key, value in output.items():\n",
    "        # Node\n",
    "        pprint(f\"Node '{key}':\")\n",
    "        # Optional: print full state at each node\n",
    "        # pprint.pprint(value[\"keys\"], indent=2, width=80, depth=None)\n",
    "    pprint(\"\\n---\\n\")\n",
    "\n",
    "# Final generation\n",
    "pprint(value[\"llm_output\"])"
   ]
  },
  {
   "cell_type": "code",
   "execution_count": 23,
   "metadata": {},
   "outputs": [
    {
     "name": "stdout",
     "output_type": "stream",
     "text": [
      "Query: Who is the bantam weight UFC champion of the world?\n",
      "Knowledge base OR the internet?...\n",
      "I need to search the internet...\n",
      "Searching the internet...\n",
      "Generating response...\n"
     ]
    },
    {
     "data": {
      "text/plain": [
       "\"Sean O'Malley is the current UFC Bantamweight Champion of the world. \\n\""
      ]
     },
     "execution_count": 23,
     "metadata": {},
     "output_type": "execute_result"
    }
   ],
   "source": [
    "result = app.invoke({\"question\": \"Who is the bantam weight UFC champion of the world?\", \"documents\":[]})\n",
    "result[\"llm_output\"]"
   ]
  }
 ],
 "metadata": {
  "kernelspec": {
   "display_name": "app",
   "language": "python",
   "name": "python3"
  },
  "language_info": {
   "codemirror_mode": {
    "name": "ipython",
    "version": 3
   },
   "file_extension": ".py",
   "mimetype": "text/x-python",
   "name": "python",
   "nbconvert_exporter": "python",
   "pygments_lexer": "ipython3",
   "version": "3.11.9"
  }
 },
 "nbformat": 4,
 "nbformat_minor": 2
}
